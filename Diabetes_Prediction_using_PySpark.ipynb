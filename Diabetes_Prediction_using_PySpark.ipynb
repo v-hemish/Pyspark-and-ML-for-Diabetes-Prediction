{
  "nbformat": 4,
  "nbformat_minor": 0,
  "metadata": {
    "colab": {
      "provenance": []
    },
    "kernelspec": {
      "name": "python3",
      "display_name": "Python 3"
    },
    "language_info": {
      "name": "python"
    }
  },
  "cells": [
    {
      "cell_type": "code",
      "execution_count": null,
      "metadata": {
        "colab": {
          "base_uri": "https://localhost:8080/"
        },
        "id": "WjU-n2E4RfW_",
        "outputId": "020874be-9561-45b6-e4f7-369b4ef96e09"
      },
      "outputs": [
        {
          "output_type": "stream",
          "name": "stdout",
          "text": [
            "Requirement already satisfied: pyspark in /usr/local/lib/python3.10/dist-packages (3.4.1)\n",
            "Requirement already satisfied: py4j==0.10.9.7 in /usr/local/lib/python3.10/dist-packages (from pyspark) (0.10.9.7)\n"
          ]
        }
      ],
      "source": [
        "!pip install pyspark"
      ]
    },
    {
      "cell_type": "code",
      "source": [
        "from pyspark.sql import SparkSession\n",
        "spark = SparkSession.builder.appName('spark').getOrCreate()"
      ],
      "metadata": {
        "id": "KkLJC5ALR9ZV"
      },
      "execution_count": null,
      "outputs": []
    },
    {
      "cell_type": "code",
      "source": [
        "!git clone https://github.com/education454/diabetes_dataset"
      ],
      "metadata": {
        "colab": {
          "base_uri": "https://localhost:8080/"
        },
        "id": "I0MZuRz8R9bf",
        "outputId": "7a692dbc-b7c6-4800-dc91-e777e80a8a2b"
      },
      "execution_count": null,
      "outputs": [
        {
          "output_type": "stream",
          "name": "stdout",
          "text": [
            "fatal: destination path 'diabetes_dataset' already exists and is not an empty directory.\n"
          ]
        }
      ]
    },
    {
      "cell_type": "markdown",
      "source": [
        "df = spark.read.csv('/content/diabetes_dataset/diabetes.csv', header=True, inferSchema=True)\n"
      ],
      "metadata": {
        "id": "1vnhOo8fSQVO"
      }
    },
    {
      "cell_type": "code",
      "source": [
        "df = spark.read.csv('/content/diabetes_dataset/diabetes.csv', header=True, inferSchema=True)\n"
      ],
      "metadata": {
        "id": "-S93SCAOSexd"
      },
      "execution_count": null,
      "outputs": []
    },
    {
      "cell_type": "code",
      "source": [
        "df.show()"
      ],
      "metadata": {
        "colab": {
          "base_uri": "https://localhost:8080/"
        },
        "id": "4kFoXLPOShjP",
        "outputId": "52558ede-4bfd-4e77-a4d5-82c0a293a00a"
      },
      "execution_count": null,
      "outputs": [
        {
          "output_type": "stream",
          "name": "stdout",
          "text": [
            "+-----------+-------+-------------+-------------+-------+----+------------------------+---+-------+\n",
            "|Pregnancies|Glucose|BloodPressure|SkinThickness|Insulin| BMI|DiabetesPedigreeFunction|Age|Outcome|\n",
            "+-----------+-------+-------------+-------------+-------+----+------------------------+---+-------+\n",
            "|          2|    138|           62|           35|      0|33.6|                   0.127| 47|      1|\n",
            "|          0|     84|           82|           31|    125|38.2|                   0.233| 23|      0|\n",
            "|          0|    145|            0|            0|      0|44.2|                    0.63| 31|      1|\n",
            "|          0|    135|           68|           42|    250|42.3|                   0.365| 24|      1|\n",
            "|          1|    139|           62|           41|    480|40.7|                   0.536| 21|      0|\n",
            "|          0|    173|           78|           32|    265|46.5|                   1.159| 58|      0|\n",
            "|          4|     99|           72|           17|      0|25.6|                   0.294| 28|      0|\n",
            "|          8|    194|           80|            0|      0|26.1|                   0.551| 67|      0|\n",
            "|          2|     83|           65|           28|     66|36.8|                   0.629| 24|      0|\n",
            "|          2|     89|           90|           30|      0|33.5|                   0.292| 42|      0|\n",
            "|          4|     99|           68|           38|      0|32.8|                   0.145| 33|      0|\n",
            "|          4|    125|           70|           18|    122|28.9|                   1.144| 45|      1|\n",
            "|          3|     80|            0|            0|      0| 0.0|                   0.174| 22|      0|\n",
            "|          6|    166|           74|            0|      0|26.6|                   0.304| 66|      0|\n",
            "|          5|    110|           68|            0|      0|26.0|                   0.292| 30|      0|\n",
            "|          2|     81|           72|           15|     76|30.1|                   0.547| 25|      0|\n",
            "|          7|    195|           70|           33|    145|25.1|                   0.163| 55|      1|\n",
            "|          6|    154|           74|           32|    193|29.3|                   0.839| 39|      0|\n",
            "|          2|    117|           90|           19|     71|25.2|                   0.313| 21|      0|\n",
            "|          3|     84|           72|           32|      0|37.2|                   0.267| 28|      0|\n",
            "+-----------+-------+-------------+-------------+-------+----+------------------------+---+-------+\n",
            "only showing top 20 rows\n",
            "\n"
          ]
        }
      ]
    },
    {
      "cell_type": "code",
      "source": [
        "print(df.count(),len(df.columns))"
      ],
      "metadata": {
        "colab": {
          "base_uri": "https://localhost:8080/"
        },
        "id": "WDNCS0T4SlHh",
        "outputId": "72e8e318-0137-4083-cb88-7f0d8b5121f5"
      },
      "execution_count": null,
      "outputs": [
        {
          "output_type": "stream",
          "name": "stdout",
          "text": [
            "2000 9\n"
          ]
        }
      ]
    },
    {
      "cell_type": "code",
      "source": [
        "df.describe().show()"
      ],
      "metadata": {
        "colab": {
          "base_uri": "https://localhost:8080/"
        },
        "id": "7PHORVopSpX6",
        "outputId": "9fdc9e0b-8b6f-4198-8494-3afbcf7736ed"
      },
      "execution_count": null,
      "outputs": [
        {
          "output_type": "stream",
          "name": "stdout",
          "text": [
            "+-------+-----------------+------------------+------------------+-----------------+-----------------+------------------+------------------------+------------------+------------------+\n",
            "|summary|      Pregnancies|           Glucose|     BloodPressure|    SkinThickness|          Insulin|               BMI|DiabetesPedigreeFunction|               Age|           Outcome|\n",
            "+-------+-----------------+------------------+------------------+-----------------+-----------------+------------------+------------------------+------------------+------------------+\n",
            "|  count|             2000|              2000|              2000|             2000|             2000|              2000|                    2000|              2000|              2000|\n",
            "|   mean|           3.7035|          121.1825|           69.1455|           20.935|           80.254|32.192999999999984|     0.47092999999999974|           33.0905|             0.342|\n",
            "| stddev|3.306063032730656|32.068635649902916|19.188314815604098|16.10324290992682|111.1805335457595| 8.149900701279762|      0.3235525586811429|11.786423106049496|0.4744982342297426|\n",
            "|    min|                0|                 0|                 0|                0|                0|               0.0|                   0.078|                21|                 0|\n",
            "|    max|               17|               199|               122|              110|              744|              80.6|                    2.42|                81|                 1|\n",
            "+-------+-----------------+------------------+------------------+-----------------+-----------------+------------------+------------------------+------------------+------------------+\n",
            "\n"
          ]
        }
      ]
    },
    {
      "cell_type": "code",
      "source": [
        "for c in df.columns:\n",
        "  print(c + \":\" + str(df[df[c].isNull()].count()))"
      ],
      "metadata": {
        "colab": {
          "base_uri": "https://localhost:8080/"
        },
        "id": "yZ6kl2xbSuel",
        "outputId": "e3d5a15a-a5a2-47c5-8424-a27d5b6181f7"
      },
      "execution_count": null,
      "outputs": [
        {
          "output_type": "stream",
          "name": "stdout",
          "text": [
            "Pregnancies:0\n",
            "Glucose:0\n",
            "BloodPressure:0\n",
            "SkinThickness:0\n",
            "Insulin:0\n",
            "BMI:0\n",
            "DiabetesPedigreeFunction:0\n",
            "Age:0\n",
            "Outcome:0\n"
          ]
        }
      ]
    },
    {
      "cell_type": "code",
      "source": [
        "def c_0():\n",
        "  columns_list  = ['Glucose','BloodPressure','SkinThickness', 'Insulin','BMI']\n",
        "  for c in columns_list:\n",
        "    print(c,\":\",df[df[c]==0].count())"
      ],
      "metadata": {
        "id": "BCpXwTpiTK_q"
      },
      "execution_count": null,
      "outputs": []
    },
    {
      "cell_type": "code",
      "source": [
        "c_0()"
      ],
      "metadata": {
        "colab": {
          "base_uri": "https://localhost:8080/"
        },
        "id": "JHPCo6w0TbIb",
        "outputId": "2017d941-59a4-4061-a4d2-800607862856"
      },
      "execution_count": null,
      "outputs": [
        {
          "output_type": "stream",
          "name": "stdout",
          "text": [
            "Glucose : 13\n",
            "BloodPressure : 90\n",
            "SkinThickness : 573\n",
            "Insulin : 956\n",
            "BMI : 28\n"
          ]
        }
      ]
    },
    {
      "cell_type": "code",
      "source": [
        "import matplotlib.pyplot as plt\n",
        "import seaborn as sns\n",
        "from pyspark.sql import functions as F\n",
        "\n",
        "# Count zeros for each column\n",
        "clist = ['Glucose','BloodPressure','SkinThickness', 'Insulin','BMI']\n",
        "\n",
        "zero_counts = df.select([F.count(F.when(F.col(c) == 0, c)).alias(c) for c in clist])\n",
        "zero_counts.show()\n",
        "\n",
        "# Convert to Pandas DataFrame for plotting\n",
        "zero_counts_pd = zero_counts.toPandas().transpose()\n",
        "zero_counts_pd.columns = [\"zero_count\"]\n",
        "zero_counts_pd.reset_index(inplace=True)\n",
        "zero_counts_pd = zero_counts_pd.rename(columns={\"index\": \"column\"})\n",
        "\n",
        "# Plot using seaborn\n",
        "plt.figure(figsize=(10, 6))\n",
        "sns.barplot(data=zero_counts_pd, x=\"column\", y=\"zero_count\")\n",
        "plt.xticks(rotation=45, ha=\"right\")\n",
        "plt.title(\"Number of zeros in each column\")\n",
        "plt.show()\n"
      ],
      "metadata": {
        "colab": {
          "base_uri": "https://localhost:8080/",
          "height": 734
        },
        "id": "50EatjEXTyhd",
        "outputId": "0ff28ebd-e9f9-41e1-ed07-e85cef012c9f"
      },
      "execution_count": null,
      "outputs": [
        {
          "output_type": "stream",
          "name": "stdout",
          "text": [
            "+-------+-------------+-------------+-------+---+\n",
            "|Glucose|BloodPressure|SkinThickness|Insulin|BMI|\n",
            "+-------+-------------+-------------+-------+---+\n",
            "|     13|           90|          573|    956| 28|\n",
            "+-------+-------------+-------------+-------+---+\n",
            "\n"
          ]
        },
        {
          "output_type": "display_data",
          "data": {
            "text/plain": [
              "<Figure size 1000x600 with 1 Axes>"
            ],
            "image/png": "[encoded data removed]"
          },
          "metadata": {}
        }
      ]
    },
    {
      "cell_type": "code",
      "source": [
        "from pyspark.sql.functions import *"
      ],
      "metadata": {
        "id": "dFsYIMmRUju8"
      },
      "execution_count": null,
      "outputs": []
    },
    {
      "cell_type": "code",
      "source": [
        "from pyspark.sql import functions as F\n",
        "df.agg(F.mean(\"BMI\")).collect()[0][0]"
      ],
      "metadata": {
        "colab": {
          "base_uri": "https://localhost:8080/"
        },
        "id": "8ytLJsfWUk-s",
        "outputId": "fb4360cd-14c2-4da6-99ae-375856c2f069"
      },
      "execution_count": null,
      "outputs": [
        {
          "output_type": "execute_result",
          "data": {
            "text/plain": [
              "32.192999999999984"
            ]
          },
          "metadata": {},
          "execution_count": 242
        }
      ]
    },
    {
      "cell_type": "code",
      "source": [
        "df.show()"
      ],
      "metadata": {
        "colab": {
          "base_uri": "https://localhost:8080/"
        },
        "id": "c9RWEAtwVCOl",
        "outputId": "b33c4fb6-5272-43d8-9ca1-d81202b5da5f"
      },
      "execution_count": null,
      "outputs": [
        {
          "output_type": "stream",
          "name": "stdout",
          "text": [
            "+-----------+-------+-------------+-------------+-------+----+------------------------+---+-------+\n",
            "|Pregnancies|Glucose|BloodPressure|SkinThickness|Insulin| BMI|DiabetesPedigreeFunction|Age|Outcome|\n",
            "+-----------+-------+-------------+-------------+-------+----+------------------------+---+-------+\n",
            "|          2|    138|           62|           35|      0|33.6|                   0.127| 47|      1|\n",
            "|          0|     84|           82|           31|    125|38.2|                   0.233| 23|      0|\n",
            "|          0|    145|            0|            0|      0|44.2|                    0.63| 31|      1|\n",
            "|          0|    135|           68|           42|    250|42.3|                   0.365| 24|      1|\n",
            "|          1|    139|           62|           41|    480|40.7|                   0.536| 21|      0|\n",
            "|          0|    173|           78|           32|    265|46.5|                   1.159| 58|      0|\n",
            "|          4|     99|           72|           17|      0|25.6|                   0.294| 28|      0|\n",
            "|          8|    194|           80|            0|      0|26.1|                   0.551| 67|      0|\n",
            "|          2|     83|           65|           28|     66|36.8|                   0.629| 24|      0|\n",
            "|          2|     89|           90|           30|      0|33.5|                   0.292| 42|      0|\n",
            "|          4|     99|           68|           38|      0|32.8|                   0.145| 33|      0|\n",
            "|          4|    125|           70|           18|    122|28.9|                   1.144| 45|      1|\n",
            "|          3|     80|            0|            0|      0| 0.0|                   0.174| 22|      0|\n",
            "|          6|    166|           74|            0|      0|26.6|                   0.304| 66|      0|\n",
            "|          5|    110|           68|            0|      0|26.0|                   0.292| 30|      0|\n",
            "|          2|     81|           72|           15|     76|30.1|                   0.547| 25|      0|\n",
            "|          7|    195|           70|           33|    145|25.1|                   0.163| 55|      1|\n",
            "|          6|    154|           74|           32|    193|29.3|                   0.839| 39|      0|\n",
            "|          2|    117|           90|           19|     71|25.2|                   0.313| 21|      0|\n",
            "|          3|     84|           72|           32|      0|37.2|                   0.267| 28|      0|\n",
            "+-----------+-------+-------------+-------------+-------+----+------------------------+---+-------+\n",
            "only showing top 20 rows\n",
            "\n"
          ]
        }
      ]
    },
    {
      "cell_type": "code",
      "source": [
        "for col in df.columns[:8]:\n",
        "  print(f'Correlation to target for {col} feature is {df.stat.corr(\"Outcome\", col)}')\n"
      ],
      "metadata": {
        "colab": {
          "base_uri": "https://localhost:8080/"
        },
        "id": "yFItWEBPVFcH",
        "outputId": "03254fab-849a-45c9-f122-b391045341e6"
      },
      "execution_count": null,
      "outputs": [
        {
          "output_type": "stream",
          "name": "stdout",
          "text": [
            "Correlation to target for Pregnancies feature is 0.22443699263363961\n",
            "Correlation to target for Glucose feature is 0.4584213024234631\n",
            "Correlation to target for BloodPressure feature is 0.07595808358896636\n",
            "Correlation to target for SkinThickness feature is 0.07604024696581364\n",
            "Correlation to target for Insulin feature is 0.12092362183050201\n",
            "Correlation to target for BMI feature is 0.27672553877003214\n",
            "Correlation to target for DiabetesPedigreeFunction feature is 0.1554590791569403\n",
            "Correlation to target for Age feature is 0.23650924717620253\n"
          ]
        }
      ]
    },
    {
      "cell_type": "code",
      "source": [
        "import matplotlib.pyplot as plt\n",
        "import seaborn as sns\n",
        "from pyspark.sql import functions as F\n",
        "\n",
        "# Suppose df is your Spark DataFrame\n",
        "\n",
        "# Step 1: Calculate the correlation matrix\n",
        "# For this example, let's assume df has columns 'A', 'B', 'C', etc. Adjust as needed.\n",
        "columns = df.columns\n",
        "correlation_matrix = []\n",
        "for col1 in columns:\n",
        "    row = []\n",
        "    for col2 in columns:\n",
        "        row.append(df.corr(col1, col2))\n",
        "    correlation_matrix.append(row)\n",
        "\n",
        "# Step 2: Convert the correlation matrix to a Pandas DataFrame\n",
        "import pandas as pd\n",
        "correlation_df = pd.DataFrame(correlation_matrix, columns=columns, index=columns)\n",
        "\n",
        "# Step 3: Plot the heatmap using seaborn\n",
        "plt.figure(figsize=(10, 8))\n",
        "sns.heatmap(correlation_df, annot=True, cmap='coolwarm', vmin=-1, vmax=1)\n",
        "plt.title(\"Correlation Heatmap\")\n",
        "plt.show()\n"
      ],
      "metadata": {
        "colab": {
          "base_uri": "https://localhost:8080/",
          "height": 866
        },
        "id": "y1DZxJD5VTc2",
        "outputId": "21292410-9781-4a39-ac68-82a2e726493b"
      },
      "execution_count": null,
      "outputs": [
        {
          "output_type": "display_data",
          "data": {
            "text/plain": [
              "<Figure size 1000x800 with 2 Axes>"
            ],
            "image/png": "[encoded data removed]"
          },
          "metadata": {}
        }
      ]
    },
    {
      "cell_type": "code",
      "source": [
        "from pyspark.ml.feature import VectorAssembler\n",
        "from pyspark.sql.functions import col\n",
        "\n",
        "# Now create the interaction term\n",
        "# df = df.withColumn(\"Glucose_BMI_interaction\", col(\"Glucose\") * col(\"BMI\"))\n",
        "\n",
        "# Proceed with the rest of your code\n",
        "\n",
        "# Add the interaction term to the assembler\n",
        "assembler = VectorAssembler(\n",
        "    inputCols=['Pregnancies', 'Glucose', 'BloodPressure', 'SkinThickness', 'Insulin', 'BMI', 'DiabetesPedigreeFunction', 'Age'],\n",
        "    outputCol='features'\n",
        ")\n",
        "output_data = assembler.transform(df)\n"
      ],
      "metadata": {
        "id": "83zRiKYkVlr_"
      },
      "execution_count": null,
      "outputs": []
    },
    {
      "cell_type": "code",
      "source": [
        "# from pyspark.ml.feature import StandardScaler\n",
        "\n",
        "# scaler = StandardScaler(inputCol=\"features\", outputCol=\"scaledFeatures\", withStd=True, withMean=True)\n",
        "# scalerModel = scaler.fit(output_data)\n",
        "# scaledData = scalerModel.transform(output_data)\n"
      ],
      "metadata": {
        "id": "q5wymK4UdaK7"
      },
      "execution_count": null,
      "outputs": []
    },
    {
      "cell_type": "code",
      "source": [
        "# from pyspark.ml.feature import MinMaxScaler\n",
        "\n",
        "# scaler = MinMaxScaler(inputCol=\"features\", outputCol=\"scaledFeatures\")\n",
        "# scalerModel = scaler.fit(output_data)\n",
        "# scaledData = scalerModel.transform(output_data)\n"
      ],
      "metadata": {
        "id": "p_BmWGzthJyu"
      },
      "execution_count": null,
      "outputs": []
    },
    {
      "cell_type": "code",
      "source": [
        "final_data = output_data.select(['features','Outcome'])"
      ],
      "metadata": {
        "id": "XQRsM51LfUaa"
      },
      "execution_count": null,
      "outputs": []
    },
    {
      "cell_type": "code",
      "source": [
        "final_data.printSchema()"
      ],
      "metadata": {
        "colab": {
          "base_uri": "https://localhost:8080/"
        },
        "id": "Cz7wz1ggV16u",
        "outputId": "6125232a-1f5a-4149-c2a1-78017ec4efe2"
      },
      "execution_count": null,
      "outputs": [
        {
          "output_type": "stream",
          "name": "stdout",
          "text": [
            "root\n",
            " |-- features: vector (nullable = true)\n",
            " |-- Outcome: integer (nullable = true)\n",
            "\n"
          ]
        }
      ]
    },
    {
      "cell_type": "code",
      "source": [
        "train, test = final_data.randomSplit([0.7,0.3])"
      ],
      "metadata": {
        "id": "cCXmu0hffc4p"
      },
      "execution_count": null,
      "outputs": []
    },
    {
      "cell_type": "code",
      "source": [
        "from pyspark.ml.classification import LogisticRegression\n",
        "from pyspark.ml.evaluation import MulticlassClassificationEvaluator\n",
        "\n",
        "# Train a logistic regression model\n",
        "lr = LogisticRegression(labelCol=\"Outcome\", featuresCol=\"features\")\n",
        "lr_model = lr.fit(train)\n",
        "\n",
        "# Make predictions on test data\n",
        "lr_predictions = lr_model.transform(test)\n",
        "\n",
        "# Evaluate the model\n",
        "evaluator = MulticlassClassificationEvaluator(labelCol=\"Outcome\", predictionCol=\"prediction\", metricName=\"accuracy\")\n",
        "lr_accuracy = evaluator.evaluate(lr_predictions)\n",
        "print(\"Logistic Regression Accuracy: \", lr_accuracy)\n"
      ],
      "metadata": {
        "colab": {
          "base_uri": "https://localhost:8080/"
        },
        "id": "v7yr_84EexHQ",
        "outputId": "75a516e5-e2c7-4489-c379-84dc7195236f"
      },
      "execution_count": null,
      "outputs": [
        {
          "output_type": "stream",
          "name": "stdout",
          "text": [
            "Logistic Regression Accuracy:  0.777027027027027\n"
          ]
        }
      ]
    },
    {
      "cell_type": "code",
      "source": [
        "df_test = spark.read.csv('/content/diabetes_dataset/new_test.csv', header=True, inferSchema=True)\n",
        "\n"
      ],
      "metadata": {
        "id": "sNbySOQeWvQ2"
      },
      "execution_count": null,
      "outputs": []
    },
    {
      "cell_type": "code",
      "source": [
        "df_test.printSchema()"
      ],
      "metadata": {
        "colab": {
          "base_uri": "https://localhost:8080/"
        },
        "id": "j5ZkTsswWx1E",
        "outputId": "cee1ee4a-4dba-4e8e-8646-e131172d8cfd"
      },
      "execution_count": null,
      "outputs": [
        {
          "output_type": "stream",
          "name": "stdout",
          "text": [
            "root\n",
            " |-- Pregnancies: integer (nullable = true)\n",
            " |-- Glucose: integer (nullable = true)\n",
            " |-- BloodPressure: integer (nullable = true)\n",
            " |-- SkinThickness: integer (nullable = true)\n",
            " |-- Insulin: integer (nullable = true)\n",
            " |-- BMI: double (nullable = true)\n",
            " |-- DiabetesPedigreeFunction: double (nullable = true)\n",
            " |-- Age: integer (nullable = true)\n",
            "\n"
          ]
        }
      ]
    },
    {
      "cell_type": "code",
      "source": [
        "# df_test = df_test.withColumn(\"Glucose_BMI_interaction\", col(\"Glucose\") * col(\"BMI\"))\n",
        "test_data = assembler.transform(df_test)"
      ],
      "metadata": {
        "id": "fitxlH78W0JE"
      },
      "execution_count": null,
      "outputs": []
    },
    {
      "cell_type": "code",
      "source": [
        "test_data.printSchema()"
      ],
      "metadata": {
        "colab": {
          "base_uri": "https://localhost:8080/"
        },
        "id": "mWHVKPv5W1fZ",
        "outputId": "3d374df5-7b81-4434-90d4-bee84d288a7d"
      },
      "execution_count": null,
      "outputs": [
        {
          "output_type": "stream",
          "name": "stdout",
          "text": [
            "root\n",
            " |-- Pregnancies: integer (nullable = true)\n",
            " |-- Glucose: integer (nullable = true)\n",
            " |-- BloodPressure: integer (nullable = true)\n",
            " |-- SkinThickness: integer (nullable = true)\n",
            " |-- Insulin: integer (nullable = true)\n",
            " |-- BMI: double (nullable = true)\n",
            " |-- DiabetesPedigreeFunction: double (nullable = true)\n",
            " |-- Age: integer (nullable = true)\n",
            " |-- features: vector (nullable = true)\n",
            "\n"
          ]
        }
      ]
    },
    {
      "cell_type": "code",
      "source": [
        "# from pyspark.ml.classification import GBTClassifier\n",
        "# from pyspark.ml.evaluation import BinaryClassificationEvaluator\n",
        "\n",
        "# # Train a GBT model\n",
        "# gbt = GBTClassifier(labelCol=\"Outcome\", featuresCol=\"features\", maxIter=10)\n",
        "\n",
        "# # Train model\n",
        "# gbt_model = gbt.fit(train)\n",
        "\n",
        "# # Make predictions on the test set\n",
        "# gbt_predictions = gbt_model.transform(test)\n",
        "\n",
        "# # Evaluate the model\n",
        "# gbt_evaluator = BinaryClassificationEvaluator(rawPredictionCol=\"rawPrediction\", labelCol=\"Outcome\")\n",
        "# gbt_accuracy = gbt_evaluator.evaluate(gbt_predictions)\n",
        "# print(\"Gradient-Boosted Trees Classifier Accuracy: \", gbt_accuracy)\n",
        "\n",
        "# # Display features, true label, and the prediction for the test data\n",
        "# gbt_predictions.select(\"features\", \"Outcome\", \"prediction\").show()\n",
        "\n",
        "# # If you want to see more columns, you can add them to the select statement.\n",
        "# # For example, to see the rawPrediction and probability columns as well:\n",
        "# gbt_predictions.select(\"features\", \"Outcome\", \"rawPrediction\", \"probability\", \"prediction\").show()\n",
        "\n"
      ],
      "metadata": {
        "colab": {
          "base_uri": "https://localhost:8080/"
        },
        "id": "jzf1i2EgX7Og",
        "outputId": "b52dc10c-3593-4074-ccd4-32d2f2b0504e"
      },
      "execution_count": null,
      "outputs": [
        {
          "output_type": "stream",
          "name": "stdout",
          "text": [
            "Gradient-Boosted Trees Classifier Accuracy:  0.925034155315378\n",
            "+--------------------+-------+----------+\n",
            "|            features|Outcome|prediction|\n",
            "+--------------------+-------+----------+\n",
            "|(8,[0,1,6,7],[2.0...|      0|       0.0|\n",
            "|(8,[0,1,6,7],[2.0...|      0|       0.0|\n",
            "|(8,[0,1,6,7],[10....|      1|       1.0|\n",
            "|(8,[0,1,6,7],[10....|      1|       1.0|\n",
            "|(8,[1,5,6,7],[73....|      0|       0.0|\n",
            "|(8,[1,5,6,7],[99....|      0|       0.0|\n",
            "|(8,[1,5,6,7],[117...|      0|       1.0|\n",
            "|(8,[1,5,6,7],[117...|      0|       1.0|\n",
            "|(8,[1,5,6,7],[131...|      1|       1.0|\n",
            "|(8,[1,6,7],[94.0,...|      0|       0.0|\n",
            "|(8,[1,6,7],[94.0,...|      0|       0.0|\n",
            "|[0.0,57.0,60.0,0....|      0|       0.0|\n",
            "|[0.0,74.0,52.0,10...|      0|       0.0|\n",
            "|[0.0,84.0,64.0,22...|      0|       0.0|\n",
            "|[0.0,84.0,64.0,22...|      0|       0.0|\n",
            "|[0.0,84.0,82.0,31...|      0|       0.0|\n",
            "|[0.0,86.0,68.0,32...|      0|       0.0|\n",
            "|[0.0,91.0,68.0,32...|      0|       1.0|\n",
            "|[0.0,91.0,68.0,32...|      0|       1.0|\n",
            "|[0.0,91.0,68.0,32...|      0|       1.0|\n",
            "+--------------------+-------+----------+\n",
            "only showing top 20 rows\n",
            "\n",
            "+--------------------+-------+--------------------+--------------------+----------+\n",
            "|            features|Outcome|       rawPrediction|         probability|prediction|\n",
            "+--------------------+-------+--------------------+--------------------+----------+\n",
            "|(8,[0,1,6,7],[2.0...|      0|[1.31915936768937...|[0.93328736164712...|       0.0|\n",
            "|(8,[0,1,6,7],[2.0...|      0|[1.31915936768937...|[0.93328736164712...|       0.0|\n",
            "|(8,[0,1,6,7],[10....|      1|[-0.9464660380754...|[0.13091051731093...|       1.0|\n",
            "|(8,[0,1,6,7],[10....|      1|[-0.9464660380754...|[0.13091051731093...|       1.0|\n",
            "|(8,[1,5,6,7],[73....|      0|[1.27327942026814...|[0.92734199406550...|       0.0|\n",
            "|(8,[1,5,6,7],[99....|      0|[1.27327942026814...|[0.92734199406550...|       0.0|\n",
            "|(8,[1,5,6,7],[117...|      0|[-1.0372268362821...|[0.11160469655719...|       1.0|\n",
            "|(8,[1,5,6,7],[117...|      0|[-1.0372268362821...|[0.11160469655719...|       1.0|\n",
            "|(8,[1,5,6,7],[131...|      1|[-0.9874488096973...|[0.12186380640313...|       1.0|\n",
            "|(8,[1,6,7],[94.0,...|      0|[1.27327942026814...|[0.92734199406550...|       0.0|\n",
            "|(8,[1,6,7],[94.0,...|      0|[1.27327942026814...|[0.92734199406550...|       0.0|\n",
            "|[0.0,57.0,60.0,0....|      0|[1.12303045669001...|[0.90431021557260...|       0.0|\n",
            "|[0.0,74.0,52.0,10...|      0|[1.27327942026814...|[0.92734199406550...|       0.0|\n",
            "|[0.0,84.0,64.0,22...|      0|[1.07085775580928...|[0.89489208126666...|       0.0|\n",
            "|[0.0,84.0,64.0,22...|      0|[1.07085775580928...|[0.89489208126666...|       0.0|\n",
            "|[0.0,84.0,82.0,31...|      0|[1.03780849987930...|[0.88851059416856...|       0.0|\n",
            "|[0.0,86.0,68.0,32...|      0|[1.00595945611037...|[0.88204281853215...|       0.0|\n",
            "|[0.0,91.0,68.0,32...|      0|[-0.3408270615412...|[0.33589221951012...|       1.0|\n",
            "|[0.0,91.0,68.0,32...|      0|[-0.3408270615412...|[0.33589221951012...|       1.0|\n",
            "|[0.0,91.0,68.0,32...|      0|[-0.3408270615412...|[0.33589221951012...|       1.0|\n",
            "+--------------------+-------+--------------------+--------------------+----------+\n",
            "only showing top 20 rows\n",
            "\n"
          ]
        }
      ]
    },
    {
      "cell_type": "code",
      "source": [
        "!pip install optuna\n"
      ],
      "metadata": {
        "colab": {
          "base_uri": "https://localhost:8080/"
        },
        "id": "YeTz2n5zkp-L",
        "outputId": "2f373eed-456b-40dd-dad4-60f1a8a65ec2"
      },
      "execution_count": null,
      "outputs": [
        {
          "output_type": "stream",
          "name": "stdout",
          "text": [
            "Collecting optuna\n",
            "  Downloading optuna-3.3.0-py3-none-any.whl (404 kB)\n",
            "\u001b[2K     \u001b[90m━━━━━━━━━━━━━━━━━━━━━━━━━━━━━━━━━━━━━━━\u001b[0m \u001b[32m404.2/404.2 kB\u001b[0m \u001b[31m7.6 MB/s\u001b[0m eta \u001b[36m0:00:00\u001b[0m\n",
            "\u001b[?25hCollecting alembic>=1.5.0 (from optuna)\n",
            "  Downloading alembic-1.12.0-py3-none-any.whl (226 kB)\n",
            "\u001b[2K     \u001b[90m━━━━━━━━━━━━━━━━━━━━━━━━━━━━━━━━━━━━━━\u001b[0m \u001b[32m226.0/226.0 kB\u001b[0m \u001b[31m22.9 MB/s\u001b[0m eta \u001b[36m0:00:00\u001b[0m\n",
            "\u001b[?25hCollecting cmaes>=0.10.0 (from optuna)\n",
            "  Downloading cmaes-0.10.0-py3-none-any.whl (29 kB)\n",
            "Collecting colorlog (from optuna)\n",
            "  Downloading colorlog-6.7.0-py2.py3-none-any.whl (11 kB)\n",
            "Requirement already satisfied: numpy in /usr/local/lib/python3.10/dist-packages (from optuna) (1.23.5)\n",
            "Requirement already satisfied: packaging>=20.0 in /usr/local/lib/python3.10/dist-packages (from optuna) (23.1)\n",
            "Requirement already satisfied: sqlalchemy>=1.3.0 in /usr/local/lib/python3.10/dist-packages (from optuna) (2.0.20)\n",
            "Requirement already satisfied: tqdm in /usr/local/lib/python3.10/dist-packages (from optuna) (4.66.1)\n",
            "Requirement already satisfied: PyYAML in /usr/local/lib/python3.10/dist-packages (from optuna) (6.0.1)\n",
            "Collecting Mako (from alembic>=1.5.0->optuna)\n",
            "  Downloading Mako-1.2.4-py3-none-any.whl (78 kB)\n",
            "\u001b[2K     \u001b[90m━━━━━━━━━━━━━━━━━━━━━━━━━━━━━━━━━━━━━━━━\u001b[0m \u001b[32m78.7/78.7 kB\u001b[0m \u001b[31m10.4 MB/s\u001b[0m eta \u001b[36m0:00:00\u001b[0m\n",
            "\u001b[?25hRequirement already satisfied: typing-extensions>=4 in /usr/local/lib/python3.10/dist-packages (from alembic>=1.5.0->optuna) (4.5.0)\n",
            "Requirement already satisfied: greenlet!=0.4.17 in /usr/local/lib/python3.10/dist-packages (from sqlalchemy>=1.3.0->optuna) (2.0.2)\n",
            "Requirement already satisfied: MarkupSafe>=0.9.2 in /usr/local/lib/python3.10/dist-packages (from Mako->alembic>=1.5.0->optuna) (2.1.3)\n",
            "Installing collected packages: Mako, colorlog, cmaes, alembic, optuna\n",
            "Successfully installed Mako-1.2.4 alembic-1.12.0 cmaes-0.10.0 colorlog-6.7.0 optuna-3.3.0\n"
          ]
        }
      ]
    },
    {
      "cell_type": "code",
      "source": [
        "import optuna\n",
        "from pyspark.ml.classification import GBTClassifier\n",
        "from pyspark.ml.evaluation import BinaryClassificationEvaluator\n",
        "\n",
        "# Define the objective function for Optuna\n",
        "def objective(trial):\n",
        "\n",
        "    # 1. Train a GBT model\n",
        "    gbt = GBTClassifier(labelCol=\"Outcome\", featuresCol=\"features\")\n",
        "\n",
        "    # 2. Define hyperparameters using optuna\n",
        "    maxDepth = trial.suggest_int(\"maxDepth\", 2, 6)\n",
        "    maxBins = trial.suggest_int(\"maxBins\", 20, 30)\n",
        "    maxIter = trial.suggest_int(\"maxIter\", 10, 20)\n",
        "\n",
        "    gbt = gbt.setMaxDepth(maxDepth).setMaxBins(maxBins).setMaxIter(maxIter)\n",
        "\n",
        "    # 3. Train the GBT model\n",
        "    gbt_model = gbt.fit(train)\n",
        "\n",
        "    # 4. Make predictions\n",
        "    gbt_predictions = gbt_model.transform(test)\n",
        "\n",
        "    # 5. Evaluate the model\n",
        "    gbt_evaluator = BinaryClassificationEvaluator(rawPredictionCol=\"rawPrediction\", labelCol=\"Outcome\")\n",
        "    accuracy = gbt_evaluator.evaluate(gbt_predictions)\n",
        "\n",
        "    return accuracy\n",
        "\n",
        "# Run Optuna study\n",
        "study = optuna.create_study(direction=\"maximize\") # Maximize accuracy\n",
        "study.optimize(objective, n_trials=10) # Change n_trials based on your requirements\n",
        "\n",
        "print(\"Number of finished trials: \", len(study.trials))\n",
        "print(\"Best trial:\")\n",
        "trial = study.best_trial\n",
        "\n",
        "print(\"  Value: \", trial.value)\n",
        "print(\"  Params: \")\n",
        "for key, value in trial.params.items():\n",
        "    print(f\"    {key}: {value}\")\n",
        "\n",
        "# Train the GBT model with best hyperparameters\n",
        "gbt = GBTClassifier(labelCol=\"Outcome\", featuresCol=\"features\")\n",
        "gbt = gbt.setMaxDepth(trial.params[\"maxDepth\"]).setMaxBins(trial.params[\"maxBins\"]).setMaxIter(trial.params[\"maxIter\"])\n",
        "gbt_model = gbt.fit(train)\n",
        "\n",
        "# Make predictions with the best model\n",
        "gbt_predictions = gbt_model.transform(test)\n",
        "\n",
        "# Display features, true label, and the prediction\n",
        "gbt_predictions.select(\"features\", \"Outcome\", \"prediction\").show()\n",
        "gbt_predictions.select(\"features\", \"Outcome\", \"rawPrediction\", \"probability\", \"prediction\").show()\n"
      ],
      "metadata": {
        "colab": {
          "base_uri": "https://localhost:8080/"
        },
        "id": "IoA6Y8dXkaJt",
        "outputId": "2188c93f-6550-4385-9d3d-15a1c32a8eb7"
      },
      "execution_count": null,
      "outputs": [
        {
          "output_type": "stream",
          "name": "stderr",
          "text": [
            "[I 2023-09-24 00:24:30,231] A new study created in memory with name: no-name-06ba3357-8fbb-43e4-af6c-851b2fa00347\n",
            "[I 2023-09-24 00:24:34,707] Trial 0 finished with value: 0.9031612266154443 and parameters: {'maxDepth': 4, 'maxBins': 30, 'maxIter': 17}. Best is trial 0 with value: 0.9031612266154443.\n",
            "[I 2023-09-24 00:24:39,984] Trial 1 finished with value: 0.9236679427002308 and parameters: {'maxDepth': 5, 'maxBins': 21, 'maxIter': 13}. Best is trial 1 with value: 0.9236679427002308.\n",
            "[I 2023-09-24 00:24:43,045] Trial 2 finished with value: 0.8523475861322652 and parameters: {'maxDepth': 3, 'maxBins': 30, 'maxIter': 13}. Best is trial 1 with value: 0.9236679427002308.\n",
            "[I 2023-09-24 00:24:46,315] Trial 3 finished with value: 0.9321560458289927 and parameters: {'maxDepth': 5, 'maxBins': 25, 'maxIter': 11}. Best is trial 3 with value: 0.9321560458289927.\n",
            "[I 2023-09-24 00:24:49,157] Trial 4 finished with value: 0.9294439108850617 and parameters: {'maxDepth': 5, 'maxBins': 23, 'maxIter': 13}. Best is trial 3 with value: 0.9321560458289927.\n",
            "[I 2023-09-24 00:24:51,781] Trial 5 finished with value: 0.8560066011064965 and parameters: {'maxDepth': 3, 'maxBins': 28, 'maxIter': 13}. Best is trial 3 with value: 0.9321560458289927.\n",
            "[I 2023-09-24 00:24:52,943] Trial 6 finished with value: 0.8335723078171707 and parameters: {'maxDepth': 2, 'maxBins': 23, 'maxIter': 13}. Best is trial 3 with value: 0.9321560458289927.\n",
            "[I 2023-09-24 00:24:54,753] Trial 7 finished with value: 0.8292978208232444 and parameters: {'maxDepth': 2, 'maxBins': 20, 'maxIter': 18}. Best is trial 3 with value: 0.9321560458289927.\n",
            "[I 2023-09-24 00:24:57,646] Trial 8 finished with value: 0.958810718681942 and parameters: {'maxDepth': 6, 'maxBins': 21, 'maxIter': 13}. Best is trial 8 with value: 0.958810718681942.\n",
            "[I 2023-09-24 00:24:59,602] Trial 9 finished with value: 0.9211113666184201 and parameters: {'maxDepth': 5, 'maxBins': 29, 'maxIter': 10}. Best is trial 8 with value: 0.958810718681942.\n"
          ]
        },
        {
          "output_type": "stream",
          "name": "stdout",
          "text": [
            "Number of finished trials:  10\n",
            "Best trial:\n",
            "  Value:  0.958810718681942\n",
            "  Params: \n",
            "    maxDepth: 6\n",
            "    maxBins: 21\n",
            "    maxIter: 13\n",
            "+--------------------+-------+----------+\n",
            "|            features|Outcome|prediction|\n",
            "+--------------------+-------+----------+\n",
            "|(8,[0,1,6,7],[2.0...|      0|       0.0|\n",
            "|(8,[0,1,6,7],[2.0...|      0|       0.0|\n",
            "|(8,[0,1,6,7],[10....|      1|       1.0|\n",
            "|(8,[0,1,6,7],[10....|      1|       1.0|\n",
            "|(8,[1,5,6,7],[73....|      0|       0.0|\n",
            "|(8,[1,5,6,7],[99....|      0|       0.0|\n",
            "|(8,[1,5,6,7],[117...|      0|       1.0|\n",
            "|(8,[1,5,6,7],[117...|      0|       1.0|\n",
            "|(8,[1,5,6,7],[131...|      1|       1.0|\n",
            "|(8,[1,6,7],[94.0,...|      0|       0.0|\n",
            "|(8,[1,6,7],[94.0,...|      0|       0.0|\n",
            "|[0.0,57.0,60.0,0....|      0|       0.0|\n",
            "|[0.0,74.0,52.0,10...|      0|       0.0|\n",
            "|[0.0,84.0,64.0,22...|      0|       0.0|\n",
            "|[0.0,84.0,64.0,22...|      0|       0.0|\n",
            "|[0.0,84.0,82.0,31...|      0|       0.0|\n",
            "|[0.0,86.0,68.0,32...|      0|       0.0|\n",
            "|[0.0,91.0,68.0,32...|      0|       1.0|\n",
            "|[0.0,91.0,68.0,32...|      0|       1.0|\n",
            "|[0.0,91.0,68.0,32...|      0|       1.0|\n",
            "+--------------------+-------+----------+\n",
            "only showing top 20 rows\n",
            "\n",
            "+--------------------+-------+--------------------+--------------------+----------+\n",
            "|            features|Outcome|       rawPrediction|         probability|prediction|\n",
            "+--------------------+-------+--------------------+--------------------+----------+\n",
            "|(8,[0,1,6,7],[2.0...|      0|[1.46059544379903...|[0.94888409167749...|       0.0|\n",
            "|(8,[0,1,6,7],[2.0...|      0|[1.44708625628025...|[0.94755761045193...|       0.0|\n",
            "|(8,[0,1,6,7],[10....|      1|[-0.8113529675339...|[0.16483202667443...|       1.0|\n",
            "|(8,[0,1,6,7],[10....|      1|[-0.8113529675339...|[0.16483202667443...|       1.0|\n",
            "|(8,[1,5,6,7],[73....|      0|[1.36573910858199...|[0.93885874634860...|       0.0|\n",
            "|(8,[1,5,6,7],[99....|      0|[1.36328872607808...|[0.93857682194833...|       0.0|\n",
            "|(8,[1,5,6,7],[117...|      0|[-1.0390650206729...|[0.11124070808779...|       1.0|\n",
            "|(8,[1,5,6,7],[117...|      0|[-1.0390650206729...|[0.11124070808779...|       1.0|\n",
            "|(8,[1,5,6,7],[131...|      1|[-1.1029471178472...|[0.09922243211727...|       1.0|\n",
            "|(8,[1,6,7],[94.0,...|      0|[1.36328872607808...|[0.93857682194833...|       0.0|\n",
            "|(8,[1,6,7],[94.0,...|      0|[1.36328872607808...|[0.93857682194833...|       0.0|\n",
            "|[0.0,57.0,60.0,0....|      0|[1.06129598038267...|[0.89307968388674...|       0.0|\n",
            "|[0.0,74.0,52.0,10...|      0|[1.36328872607808...|[0.93857682194833...|       0.0|\n",
            "|[0.0,84.0,64.0,22...|      0|[1.14695085317366...|[0.90837072003244...|       0.0|\n",
            "|[0.0,84.0,64.0,22...|      0|[1.14695085317366...|[0.90837072003244...|       0.0|\n",
            "|[0.0,84.0,82.0,31...|      0|[1.11085036712278...|[0.90218138841825...|       0.0|\n",
            "|[0.0,86.0,68.0,32...|      0|[1.14450047066975...|[0.90796199574498...|       0.0|\n",
            "|[0.0,91.0,68.0,32...|      0|[-0.0186777360957...|[0.49066221777966...|       1.0|\n",
            "|[0.0,91.0,68.0,32...|      0|[-0.0186777360957...|[0.49066221777966...|       1.0|\n",
            "|[0.0,91.0,68.0,32...|      0|[-0.0186777360957...|[0.49066221777966...|       1.0|\n",
            "+--------------------+-------+--------------------+--------------------+----------+\n",
            "only showing top 20 rows\n",
            "\n"
          ]
        }
      ]
    },
    {
      "cell_type": "code",
      "source": [
        "from pyspark.ml.classification import GBTClassifier\n",
        "from pyspark.ml.evaluation import BinaryClassificationEvaluator\n",
        "from pyspark.ml.tuning import CrossValidator, ParamGridBuilder\n",
        "\n",
        "# 1. Train a GBT model\n",
        "gbt = GBTClassifier(labelCol=\"Outcome\", featuresCol=\"features\")\n",
        "\n",
        "# 2. Define the parameter grid for hyperparameter tuning\n",
        "paramGrid = (ParamGridBuilder()\n",
        "             .addGrid(gbt.maxDepth, [2, 4, 6])\n",
        "             .addGrid(gbt.maxBins, [20, 30])\n",
        "             .addGrid(gbt.maxIter, [10, 20])\n",
        "             .build())\n",
        "\n",
        "# 3. Set up the cross-validation process\n",
        "crossval = CrossValidator(estimator=gbt,\n",
        "                          estimatorParamMaps=paramGrid,\n",
        "                          evaluator=BinaryClassificationEvaluator(labelCol=\"Outcome\", rawPredictionCol=\"rawPrediction\"),\n",
        "                          numFolds=5)  # Use 5-fold cross validation\n",
        "\n",
        "# 4. Run cross-validation, and choose the best set of parameters.\n",
        "cvModel = crossval.fit(train)\n",
        "\n",
        "# 5. Make predictions on the test set using the model with the best set of parameters\n",
        "cv_predictions = cvModel.transform(test)\n",
        "\n",
        "# 6. Evaluate the model\n",
        "gbt_evaluator = BinaryClassificationEvaluator(rawPredictionCol=\"rawPrediction\", labelCol=\"Outcome\")\n",
        "cv_accuracy = gbt_evaluator.evaluate(cv_predictions)\n",
        "print(\"Gradient-Boosted Trees Classifier Accuracy with CV: \", cv_accuracy)\n",
        "\n",
        "# 7. Display features, true label, and the prediction for the test data\n",
        "cv_predictions.select(\"features\", \"Outcome\", \"prediction\").show()\n",
        "\n",
        "# 8. Display the rawPrediction and probability columns as well\n",
        "cv_predictions.select(\"features\", \"Outcome\", \"rawPrediction\", \"probability\", \"prediction\").show()\n"
      ],
      "metadata": {
        "colab": {
          "base_uri": "https://localhost:8080/"
        },
        "id": "85-DTlhBi5N3",
        "outputId": "ee2acb1e-6730-4b37-f6bf-776d7ae9acd2"
      },
      "execution_count": null,
      "outputs": [
        {
          "output_type": "stream",
          "name": "stdout",
          "text": [
            "Gradient-Boosted Trees Classifier Accuracy with CV:  0.9603798341607259\n",
            "+--------------------+-------+----------+\n",
            "|            features|Outcome|prediction|\n",
            "+--------------------+-------+----------+\n",
            "|(8,[0,1,6,7],[2.0...|      0|       0.0|\n",
            "|(8,[0,1,6,7],[2.0...|      0|       0.0|\n",
            "|(8,[0,1,6,7],[10....|      1|       1.0|\n",
            "|(8,[0,1,6,7],[10....|      1|       1.0|\n",
            "|(8,[1,5,6,7],[73....|      0|       0.0|\n",
            "|(8,[1,5,6,7],[99....|      0|       0.0|\n",
            "|(8,[1,5,6,7],[117...|      0|       1.0|\n",
            "|(8,[1,5,6,7],[117...|      0|       1.0|\n",
            "|(8,[1,5,6,7],[131...|      1|       1.0|\n",
            "|(8,[1,6,7],[94.0,...|      0|       0.0|\n",
            "|(8,[1,6,7],[94.0,...|      0|       0.0|\n",
            "|[0.0,57.0,60.0,0....|      0|       0.0|\n",
            "|[0.0,74.0,52.0,10...|      0|       0.0|\n",
            "|[0.0,84.0,64.0,22...|      0|       0.0|\n",
            "|[0.0,84.0,64.0,22...|      0|       0.0|\n",
            "|[0.0,84.0,82.0,31...|      0|       0.0|\n",
            "|[0.0,86.0,68.0,32...|      0|       0.0|\n",
            "|[0.0,91.0,68.0,32...|      0|       1.0|\n",
            "|[0.0,91.0,68.0,32...|      0|       1.0|\n",
            "|[0.0,91.0,68.0,32...|      0|       1.0|\n",
            "+--------------------+-------+----------+\n",
            "only showing top 20 rows\n",
            "\n",
            "+--------------------+-------+--------------------+--------------------+----------+\n",
            "|            features|Outcome|       rawPrediction|         probability|prediction|\n",
            "+--------------------+-------+--------------------+--------------------+----------+\n",
            "|(8,[0,1,6,7],[2.0...|      0|[1.53356796735398...|[0.95551659506714...|       0.0|\n",
            "|(8,[0,1,6,7],[2.0...|      0|[1.52466528128111...|[0.95475361619160...|       0.0|\n",
            "|(8,[0,1,6,7],[10....|      1|[-1.0716764022253...|[0.10495401411181...|       1.0|\n",
            "|(8,[0,1,6,7],[10....|      1|[-1.0716764022253...|[0.10495401411181...|       1.0|\n",
            "|(8,[1,5,6,7],[73....|      0|[1.52466528128111...|[0.95475361619160...|       0.0|\n",
            "|(8,[1,5,6,7],[99....|      0|[1.52466528128111...|[0.95475361619160...|       0.0|\n",
            "|(8,[1,5,6,7],[117...|      0|[-0.3675075090980...|[0.32409518241696...|       1.0|\n",
            "|(8,[1,5,6,7],[117...|      0|[-0.3675075090980...|[0.32409518241696...|       1.0|\n",
            "|(8,[1,5,6,7],[131...|      1|[-1.4417539295091...|[0.05297487602438...|       1.0|\n",
            "|(8,[1,6,7],[94.0,...|      0|[1.52466528128111...|[0.95475361619160...|       0.0|\n",
            "|(8,[1,6,7],[94.0,...|      0|[1.52466528128111...|[0.95475361619160...|       0.0|\n",
            "|[0.0,57.0,60.0,0....|      0|[1.44701593799440...|[0.94755062147345...|       0.0|\n",
            "|[0.0,74.0,52.0,10...|      0|[1.53671439218011...|[0.95578330492018...|       0.0|\n",
            "|[0.0,84.0,64.0,22...|      0|[1.54111366330513...|[0.95615365761995...|       0.0|\n",
            "|[0.0,84.0,64.0,22...|      0|[1.54111366330513...|[0.95615365761995...|       0.0|\n",
            "|[0.0,84.0,82.0,31...|      0|[1.28860509541070...|[0.92938038619314...|       0.0|\n",
            "|[0.0,86.0,68.0,32...|      0|[1.28765520606811...|[0.92925559724280...|       0.0|\n",
            "|[0.0,91.0,68.0,32...|      0|[-2.3726845789743...|[0.00861695543913...|       1.0|\n",
            "|[0.0,91.0,68.0,32...|      0|[-2.3726845789743...|[0.00861695543913...|       1.0|\n",
            "|[0.0,91.0,68.0,32...|      0|[-2.3726845789743...|[0.00861695543913...|       1.0|\n",
            "+--------------------+-------+--------------------+--------------------+----------+\n",
            "only showing top 20 rows\n",
            "\n"
          ]
        }
      ]
    }
  ]
}